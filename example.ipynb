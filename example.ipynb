{
 "cells": [
  {
   "cell_type": "code",
   "execution_count": null,
   "metadata": {},
   "outputs": [],
   "source": [
    "!git clone https://github.com/xiaokuili/llm_translator_srt.git"
   ]
  },
  {
   "cell_type": "code",
   "execution_count": null,
   "metadata": {},
   "outputs": [],
   "source": [
    "!pip install poetry"
   ]
  },
  {
   "cell_type": "code",
   "execution_count": null,
   "metadata": {},
   "outputs": [],
   "source": [
    "!cd llm_translator_srt/translator && poetry install "
   ]
  },
  {
   "cell_type": "code",
   "execution_count": null,
   "metadata": {},
   "outputs": [],
   "source": [
    "import os\n",
    "\n",
    "# 设置 OPENAI 环境变量\n",
    "os.environ['OPENAI_API_KEY'] = '...'\n",
    "os.environ['OPENAI_API_BASE'] = '...'\n",
    "\n",
    "# 设置 SRT 文件路径环境变量\n",
    "os.environ['INPUT_PATH'] = '/content/llm_translator_srt/translator/srt/example.srt'\n",
    "os.environ['OUTPUT_PATH'] = '/content/llm_translator_srt/translator/srt/example_chi.srt'\n",
    "os.environ['MAXLINE'] = '20'"
   ]
  },
  {
   "cell_type": "code",
   "execution_count": null,
   "metadata": {},
   "outputs": [],
   "source": [
    "!cat /content/llm_translator_srt/translator/srt/example.srt"
   ]
  },
  {
   "cell_type": "code",
   "execution_count": null,
   "metadata": {},
   "outputs": [],
   "source": [
    "!cd /content/llm_translator_srt/translator && poetry run python /content/llm_translator_srt/translator/translator/example.py"
   ]
  },
  {
   "cell_type": "code",
   "execution_count": null,
   "metadata": {},
   "outputs": [],
   "source": [
    "!cat /content/llm_translator_srt/translator/srt/example_chi.srt"
   ]
  }
 ],
 "metadata": {
  "language_info": {
   "name": "python"
  }
 },
 "nbformat": 4,
 "nbformat_minor": 2
}
